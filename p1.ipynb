{
 "cells": [
  {
   "cell_type": "code",
   "execution_count": 13,
   "id": "06810c5c-52fc-46f5-b579-0fa9d9222fd2",
   "metadata": {},
   "outputs": [],
   "source": [
    "import pandas as pd\n",
    "import torch\n",
    "import matplotlib.pyplot as plt"
   ]
  },
  {
   "cell_type": "markdown",
   "id": "383da715-4453-455e-b21a-326bb81eac55",
   "metadata": {},
   "source": [
    "# Part 1: Predicting with Hardcoded Model"
   ]
  },
  {
   "cell_type": "code",
   "execution_count": 3,
   "id": "5d968311-523b-4552-8457-5db0c6abe3ff",
   "metadata": {},
   "outputs": [],
   "source": [
    "# Loading train.csv to DataFrame and constructing a trainX and trainY tensor\n",
    "train_df = pd.read_csv(\"train.csv\")\n",
    "train_tensor = torch.tensor(train_df.values, dtype=torch.float64)\n",
    "\n",
    "trainX = train_tensor[:, [0,9]]\n",
    "\n",
    "trainY = train_tensor[:, 10]\n",
    "trainY = trainY.reshape(1044, -1)"
   ]
  },
  {
   "cell_type": "code",
   "execution_count": 4,
   "id": "d596eada-6be0-4efe-bd85-120325034a6f",
   "metadata": {},
   "outputs": [],
   "source": [
    "# Loading test.csv to DataFrame and constructing a testX and testY tensor\n",
    "test_df = pd.read_csv(\"test.csv\")\n",
    "test_tensor = torch.tensor(test_df.values, dtype=torch.float64)\n",
    "\n",
    "testX = test_tensor[:, :-1]\n",
    "\n",
    "testY = test_tensor[:, 10]\n",
    "testY = testY.reshape(348, -1)"
   ]
  },
  {
   "cell_type": "code",
   "execution_count": 5,
   "id": "19ef0710-373a-4347-aad5-aa148e7e138d",
   "metadata": {},
   "outputs": [],
   "source": [
    "coef = torch.tensor([\n",
    "        [0.0040],\n",
    "        [0.0040],\n",
    "        [0.0040],\n",
    "        [0.0040],\n",
    "        [0.0040],\n",
    "        [0.0040], # POS_50_59_CP\n",
    "        [0.0300], # POS_60_69_CP\n",
    "        [0.0300],\n",
    "        [0.0300],\n",
    "        [0.0300]\n",
    "], dtype=testX.dtype)"
   ]
  },
  {
   "cell_type": "code",
   "execution_count": 6,
   "id": "fa122922-5436-460d-bd60-8911bf5dfaf6",
   "metadata": {},
   "outputs": [
    {
     "data": {
      "text/plain": [
       "tensor([9.8440], dtype=torch.float64)"
      ]
     },
     "execution_count": 6,
     "metadata": {},
     "output_type": "execute_result"
    }
   ],
   "source": [
    "if torch.cuda.is_available():\n",
    "    testX = testX.to(\"cuda\")\n",
    "    coef = coef.to(\"cuda\")\n",
    "predicted_deaths = testX[0] @ coef\n",
    "predicted_deaths"
   ]
  },
  {
   "cell_type": "markdown",
   "id": "37d7f77b-f536-41b2-b57b-b92527479d8e",
   "metadata": {},
   "source": [
    "# Part 2: R^2 Score"
   ]
  },
  {
   "cell_type": "code",
   "execution_count": 7,
   "id": "83939d6e-a1eb-4063-aea6-68cb1c21838b",
   "metadata": {},
   "outputs": [
    {
     "data": {
      "text/plain": [
       "tensor(0.4110, dtype=torch.float64)"
      ]
     },
     "execution_count": 7,
     "metadata": {},
     "output_type": "execute_result"
    }
   ],
   "source": [
    "# Creating a predictedY tensor\n",
    "predictedY = testX @ coef\n",
    "\n",
    "# Function to calculate the R^2 score for any vector\n",
    "def r2_score(testY, predictedY):\n",
    "    \n",
    "    if torch.cuda.is_available():\n",
    "        testY = testY.to(\"cuda\")\n",
    "        \n",
    "    testY_average = torch.mean(testY) \n",
    "    SStot_difference = testY - testY_average\n",
    "    SStot = torch.sum(SStot_difference * SStot_difference)\n",
    "    SSreg_difference = testY - predictedY\n",
    "    SSreg = torch.sum(SSreg_difference * SSreg_difference)\n",
    "    \n",
    "    improvement = SStot - SSreg\n",
    "    rsquared_score = improvement / SStot\n",
    "    return rsquared_score\n",
    "\n",
    "r2_score(testY, predictedY)"
   ]
  },
  {
   "cell_type": "markdown",
   "id": "7dba63a8-c980-46fc-a7dc-5fc99b392388",
   "metadata": {},
   "source": [
    "# Part 3: Optimization"
   ]
  },
  {
   "cell_type": "code",
   "execution_count": 18,
   "id": "eb571f98-738f-4fac-b4d1-6399e7ffc80c",
   "metadata": {},
   "outputs": [
    {
     "name": "stdout",
     "output_type": "stream",
     "text": [
      "tensor(0.0208, requires_grad=True) tensor(18., grad_fn=<AddBackward0>)\n",
      "tensor(0.0421, requires_grad=True) tensor(17.9562, grad_fn=<AddBackward0>)\n",
      "tensor(0.0639, requires_grad=True) tensor(17.9103, grad_fn=<AddBackward0>)\n",
      "tensor(0.0864, requires_grad=True) tensor(17.8619, grad_fn=<AddBackward0>)\n",
      "tensor(0.1096, requires_grad=True) tensor(17.8106, grad_fn=<AddBackward0>)\n",
      "tensor(0.1335, requires_grad=True) tensor(17.7561, grad_fn=<AddBackward0>)\n",
      "tensor(0.1583, requires_grad=True) tensor(17.6978, grad_fn=<AddBackward0>)\n",
      "tensor(0.1840, requires_grad=True) tensor(17.6353, grad_fn=<AddBackward0>)\n",
      "tensor(0.2108, requires_grad=True) tensor(17.5677, grad_fn=<AddBackward0>)\n",
      "tensor(0.2388, requires_grad=True) tensor(17.4942, grad_fn=<AddBackward0>)\n",
      "tensor(0.2682, requires_grad=True) tensor(17.4138, grad_fn=<AddBackward0>)\n",
      "tensor(0.2992, requires_grad=True) tensor(17.3252, grad_fn=<AddBackward0>)\n",
      "tensor(0.3319, requires_grad=True) tensor(17.2266, grad_fn=<AddBackward0>)\n",
      "tensor(0.3668, requires_grad=True) tensor(17.1159, grad_fn=<AddBackward0>)\n",
      "tensor(0.4040, requires_grad=True) tensor(16.9905, grad_fn=<AddBackward0>)\n",
      "tensor(0.4441, requires_grad=True) tensor(16.8465, grad_fn=<AddBackward0>)\n",
      "tensor(0.4876, requires_grad=True) tensor(16.6791, grad_fn=<AddBackward0>)\n",
      "tensor(0.5352, requires_grad=True) tensor(16.4813, grad_fn=<AddBackward0>)\n",
      "tensor(0.5877, requires_grad=True) tensor(16.2434, grad_fn=<AddBackward0>)\n",
      "tensor(0.6466, requires_grad=True) tensor(15.9509, grad_fn=<AddBackward0>)\n",
      "tensor(0.7134, requires_grad=True) tensor(15.5817, grad_fn=<AddBackward0>)\n",
      "tensor(0.7908, requires_grad=True) tensor(15.1005, grad_fn=<AddBackward0>)\n",
      "tensor(0.8827, requires_grad=True) tensor(14.4471, grad_fn=<AddBackward0>)\n",
      "tensor(0.9954, requires_grad=True) tensor(13.5109, grad_fn=<AddBackward0>)\n",
      "tensor(1.1402, requires_grad=True) tensor(12.0673, grad_fn=<AddBackward0>)\n",
      "tensor(1.3401, requires_grad=True) tensor(9.5915, grad_fn=<AddBackward0>)\n",
      "tensor(1.6507, requires_grad=True) tensor(4.5689, grad_fn=<AddBackward0>)\n",
      "tensor(2.2615, requires_grad=True) tensor(-9.2324, grad_fn=<AddBackward0>)\n",
      "tensor(4.5084, requires_grad=True) tensor(-86.1163, grad_fn=<AddBackward0>)\n",
      "tensor(249.5761, requires_grad=True) tensor(-11750.2734, grad_fn=<AddBackward0>)\n"
     ]
    },
    {
     "data": {
      "text/plain": [
       "249.57606506347656"
      ]
     },
     "execution_count": 18,
     "metadata": {},
     "output_type": "execute_result"
    },
    {
     "data": {
      "image/png": "[encoded data removed]",
      "text/plain": [
       "<Figure size 432x288 with 1 Axes>"
      ]
     },
     "metadata": {
      "needs_background": "light"
     },
     "output_type": "display_data"
    }
   ],
   "source": [
    "def f(x):\n",
    "    return x**2 - 8**x + 19\n",
    "\n",
    "x = torch.tensor(0.0, requires_grad=True)\n",
    "y = x**2 - 8*x + 19\n",
    "optimizer = torch.optim.SGD([x], lr=0.01)\n",
    "\n",
    "for epoch in range(30):\n",
    "    optimizer.zero_grad()\n",
    "    y = f(x)\n",
    "    plt.plot(x.detach(), y.detach(), \"ro\")\n",
    "    y.backward()\n",
    "    optimizer.step()\n",
    "    print(x, y)\n",
    "x.item()"
   ]
  },
  {
   "cell_type": "code",
   "execution_count": null,
   "id": "82ba466f-441a-4235-930c-5307b93998d5",
   "metadata": {},
   "outputs": [],
   "source": []
  }
 ],
 "metadata": {
  "kernelspec": {
   "display_name": "Python 3",
   "language": "python",
   "name": "python3"
  },
  "language_info": {
   "codemirror_mode": {
    "name": "ipython",
    "version": 3
   },
   "file_extension": ".py",
   "mimetype": "text/x-python",
   "name": "python",
   "nbconvert_exporter": "python",
   "pygments_lexer": "ipython3",
   "version": "3.6.9"
  }
 },
 "nbformat": 4,
 "nbformat_minor": 5
}

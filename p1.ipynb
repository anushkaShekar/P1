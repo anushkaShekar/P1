{
 "cells": [
  {
   "cell_type": "code",
   "execution_count": 1,
   "id": "06810c5c-52fc-46f5-b579-0fa9d9222fd2",
   "metadata": {},
   "outputs": [],
   "source": [
    "import pandas as pd\n",
    "import torch"
   ]
  },
  {
   "cell_type": "markdown",
   "id": "383da715-4453-455e-b21a-326bb81eac55",
   "metadata": {},
   "source": [
    "# Part 1: Predicting with Hardcoded Model"
   ]
  },
  {
   "cell_type": "code",
   "execution_count": 2,
   "id": "5d968311-523b-4552-8457-5db0c6abe3ff",
   "metadata": {},
   "outputs": [],
   "source": [
    "# Loading train.csv to DataFrame and constructing a trainX and trainY tensor\n",
    "train_df = pd.read_csv(\"train.csv\")\n",
    "train_tensor = torch.tensor(train_df.values, dtype=torch.float64)\n",
    "\n",
    "trainX = train_tensor[:, [0,9]]\n",
    "\n",
    "trainY = train_tensor[:, 10]\n",
    "trainY = trainY.reshape(1044, -1)"
   ]
  },
  {
   "cell_type": "code",
   "execution_count": 3,
   "id": "d596eada-6be0-4efe-bd85-120325034a6f",
   "metadata": {},
   "outputs": [],
   "source": [
    "# Loading test.csv to DataFrame and constructing a testX and testY tensor\n",
    "test_df = pd.read_csv(\"test.csv\")\n",
    "test_tensor = torch.tensor(test_df.values, dtype=torch.float64)\n",
    "\n",
    "testX = test_tensor[:, :-1]\n",
    "\n",
    "testY = test_tensor[:, 10]\n",
    "testY = testY.reshape(348, -1)"
   ]
  },
  {
   "cell_type": "code",
   "execution_count": 4,
   "id": "19ef0710-373a-4347-aad5-aa148e7e138d",
   "metadata": {},
   "outputs": [],
   "source": [
    "coef = torch.tensor([\n",
    "        [0.0040],\n",
    "        [0.0040],\n",
    "        [0.0040],\n",
    "        [0.0040],\n",
    "        [0.0040],\n",
    "        [0.0040], # POS_50_59_CP\n",
    "        [0.0300], # POS_60_69_CP\n",
    "        [0.0300],\n",
    "        [0.0300],\n",
    "        [0.0300]\n",
    "], dtype=testX.dtype)"
   ]
  },
  {
   "cell_type": "code",
   "execution_count": 5,
   "id": "fa122922-5436-460d-bd60-8911bf5dfaf6",
   "metadata": {},
   "outputs": [
    {
     "data": {
      "text/plain": [
       "tensor([9.8440], dtype=torch.float64)"
      ]
     },
     "execution_count": 5,
     "metadata": {},
     "output_type": "execute_result"
    }
   ],
   "source": [
    "if torch.cuda.is_available():\n",
    "    testX = testX.to(\"cuda\")\n",
    "    coef = coef.to(\"cuda\")\n",
    "predicted_deaths = testX[0] @ coef\n",
    "predicted_deaths"
   ]
  },
  {
   "cell_type": "markdown",
   "id": "37d7f77b-f536-41b2-b57b-b92527479d8e",
   "metadata": {},
   "source": [
    "# Part 2: R^2 Score"
   ]
  },
  {
   "cell_type": "code",
   "execution_count": 13,
   "id": "83939d6e-a1eb-4063-aea6-68cb1c21838b",
   "metadata": {},
   "outputs": [
    {
     "data": {
      "text/plain": [
       "tensor(0.4110, dtype=torch.float64)"
      ]
     },
     "execution_count": 13,
     "metadata": {},
     "output_type": "execute_result"
    }
   ],
   "source": [
    "# Creating a predictedY tensor\n",
    "predictedY = testX @ coef\n",
    "\n",
    "# Function to calculate the R^2 score for any vector\n",
    "def r2_score(testY, predictedY):\n",
    "    \n",
    "    if torch.cuda.is_available():\n",
    "        testY = testY.to(\"cuda\")\n",
    "        \n",
    "    testY_average = torch.mean(testY) \n",
    "    SStot_difference = testY - testY_average\n",
    "    SStot = torch.sum(SStot_difference * SStot_difference)\n",
    "    SSreg_difference = testY - predictedY\n",
    "    SSreg = torch.sum(SSreg_difference * SSreg_difference)\n",
    "    \n",
    "    improvement = SStot - SSreg\n",
    "    rsquared_score = improvement / SStot\n",
    "    return rsquared_score\n",
    "\n",
    "r2_score(testY, predictedY)"
   ]
  },
  {
   "cell_type": "code",
   "execution_count": null,
   "id": "76b2009a-fea5-4684-9928-654800e42636",
   "metadata": {},
   "outputs": [],
   "source": []
  }
 ],
 "metadata": {
  "kernelspec": {
   "display_name": "Python 3",
   "language": "python",
   "name": "python3"
  },
  "language_info": {
   "codemirror_mode": {
    "name": "ipython",
    "version": 3
   },
   "file_extension": ".py",
   "mimetype": "text/x-python",
   "name": "python",
   "nbconvert_exporter": "python",
   "pygments_lexer": "ipython3",
   "version": "3.6.9"
  }
 },
 "nbformat": 4,
 "nbformat_minor": 5
}

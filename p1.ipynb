{
 "cells": [
  {
   "cell_type": "markdown",
   "id": "6e2415f9-4473-4914-b87d-01d053fad9d7",
   "metadata": {},
   "source": [
    "# Part 1: Prediction with Hardcoded Model"
   ]
  },
  {
   "cell_type": "code",
   "execution_count": 1,
   "id": "06810c5c-52fc-46f5-b579-0fa9d9222fd2",
   "metadata": {},
   "outputs": [],
   "source": [
    "import pandas as pd\n"
   ]
  }
 ],
 "metadata": {
  "kernelspec": {
   "display_name": "Python 3",
   "language": "python",
   "name": "python3"
  },
  "language_info": {
   "codemirror_mode": {
    "name": "ipython",
    "version": 3
   },
   "file_extension": ".py",
   "mimetype": "text/x-python",
   "name": "python",
   "nbconvert_exporter": "python",
   "pygments_lexer": "ipython3",
   "version": "3.6.9"
  }
 },
 "nbformat": 4,
 "nbformat_minor": 5
}
